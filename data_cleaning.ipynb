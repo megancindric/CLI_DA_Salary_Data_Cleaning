{
 "cells": [
  {
   "cell_type": "code",
   "execution_count": 41,
   "metadata": {},
   "outputs": [],
   "source": [
    "import pandas as pd\n",
    "import pycountry"
   ]
  },
  {
   "cell_type": "markdown",
   "metadata": {},
   "source": [
    "#### Working with data set ds.salaries.csv, with goal of converting ISO 3166 country code to country name column"
   ]
  },
  {
   "cell_type": "code",
   "execution_count": 42,
   "metadata": {},
   "outputs": [
    {
     "data": {
      "text/html": [
       "<div>\n",
       "<style scoped>\n",
       "    .dataframe tbody tr th:only-of-type {\n",
       "        vertical-align: middle;\n",
       "    }\n",
       "\n",
       "    .dataframe tbody tr th {\n",
       "        vertical-align: top;\n",
       "    }\n",
       "\n",
       "    .dataframe thead th {\n",
       "        text-align: right;\n",
       "    }\n",
       "</style>\n",
       "<table border=\"1\" class=\"dataframe\">\n",
       "  <thead>\n",
       "    <tr style=\"text-align: right;\">\n",
       "      <th></th>\n",
       "      <th>work_year</th>\n",
       "      <th>experience_level</th>\n",
       "      <th>employment_type</th>\n",
       "      <th>job_title</th>\n",
       "      <th>salary</th>\n",
       "      <th>salary_currency</th>\n",
       "      <th>salary_in_usd</th>\n",
       "      <th>employee_residence</th>\n",
       "      <th>remote_ratio</th>\n",
       "      <th>company_location</th>\n",
       "      <th>company_size</th>\n",
       "    </tr>\n",
       "    <tr>\n",
       "      <th>#</th>\n",
       "      <th></th>\n",
       "      <th></th>\n",
       "      <th></th>\n",
       "      <th></th>\n",
       "      <th></th>\n",
       "      <th></th>\n",
       "      <th></th>\n",
       "      <th></th>\n",
       "      <th></th>\n",
       "      <th></th>\n",
       "      <th></th>\n",
       "    </tr>\n",
       "  </thead>\n",
       "  <tbody>\n",
       "    <tr>\n",
       "      <th>0</th>\n",
       "      <td>2020</td>\n",
       "      <td>MI</td>\n",
       "      <td>FT</td>\n",
       "      <td>Data Scientist</td>\n",
       "      <td>70000</td>\n",
       "      <td>EUR</td>\n",
       "      <td>79833</td>\n",
       "      <td>DE</td>\n",
       "      <td>0</td>\n",
       "      <td>DE</td>\n",
       "      <td>L</td>\n",
       "    </tr>\n",
       "    <tr>\n",
       "      <th>1</th>\n",
       "      <td>2020</td>\n",
       "      <td>SE</td>\n",
       "      <td>FT</td>\n",
       "      <td>Machine Learning Scientist</td>\n",
       "      <td>260000</td>\n",
       "      <td>USD</td>\n",
       "      <td>260000</td>\n",
       "      <td>JP</td>\n",
       "      <td>0</td>\n",
       "      <td>JP</td>\n",
       "      <td>S</td>\n",
       "    </tr>\n",
       "    <tr>\n",
       "      <th>2</th>\n",
       "      <td>2020</td>\n",
       "      <td>SE</td>\n",
       "      <td>FT</td>\n",
       "      <td>Big Data Engineer</td>\n",
       "      <td>85000</td>\n",
       "      <td>GBP</td>\n",
       "      <td>109024</td>\n",
       "      <td>GB</td>\n",
       "      <td>50</td>\n",
       "      <td>GB</td>\n",
       "      <td>M</td>\n",
       "    </tr>\n",
       "    <tr>\n",
       "      <th>3</th>\n",
       "      <td>2020</td>\n",
       "      <td>MI</td>\n",
       "      <td>FT</td>\n",
       "      <td>Product Data Analyst</td>\n",
       "      <td>20000</td>\n",
       "      <td>USD</td>\n",
       "      <td>20000</td>\n",
       "      <td>HN</td>\n",
       "      <td>0</td>\n",
       "      <td>HN</td>\n",
       "      <td>S</td>\n",
       "    </tr>\n",
       "    <tr>\n",
       "      <th>4</th>\n",
       "      <td>2020</td>\n",
       "      <td>SE</td>\n",
       "      <td>FT</td>\n",
       "      <td>Machine Learning Engineer</td>\n",
       "      <td>150000</td>\n",
       "      <td>USD</td>\n",
       "      <td>150000</td>\n",
       "      <td>US</td>\n",
       "      <td>50</td>\n",
       "      <td>US</td>\n",
       "      <td>L</td>\n",
       "    </tr>\n",
       "  </tbody>\n",
       "</table>\n",
       "</div>"
      ],
      "text/plain": [
       "   work_year experience_level employment_type                   job_title  \\\n",
       "#                                                                           \n",
       "0       2020               MI              FT              Data Scientist   \n",
       "1       2020               SE              FT  Machine Learning Scientist   \n",
       "2       2020               SE              FT           Big Data Engineer   \n",
       "3       2020               MI              FT        Product Data Analyst   \n",
       "4       2020               SE              FT   Machine Learning Engineer   \n",
       "\n",
       "   salary salary_currency  salary_in_usd employee_residence  remote_ratio  \\\n",
       "#                                                                           \n",
       "0   70000             EUR          79833                 DE             0   \n",
       "1  260000             USD         260000                 JP             0   \n",
       "2   85000             GBP         109024                 GB            50   \n",
       "3   20000             USD          20000                 HN             0   \n",
       "4  150000             USD         150000                 US            50   \n",
       "\n",
       "  company_location company_size  \n",
       "#                                \n",
       "0               DE            L  \n",
       "1               JP            S  \n",
       "2               GB            M  \n",
       "3               HN            S  \n",
       "4               US            L  "
      ]
     },
     "execution_count": 42,
     "metadata": {},
     "output_type": "execute_result"
    }
   ],
   "source": [
    "df = pd.read_csv(\"ds_salaries.csv\", index_col=\"#\")\n",
    "df.head()"
   ]
  },
  {
   "cell_type": "markdown",
   "metadata": {},
   "source": [
    "#### Testing conversion with pycountry"
   ]
  },
  {
   "cell_type": "code",
   "execution_count": 43,
   "metadata": {},
   "outputs": [
    {
     "name": "stdout",
     "output_type": "stream",
     "text": [
      "Japan\n"
     ]
    }
   ],
   "source": [
    "df.loc[1][\"company_location\"]\n",
    "print(pycountry.countries.get(alpha_2=df.loc[1][\"company_location\"]).name)"
   ]
  },
  {
   "cell_type": "markdown",
   "metadata": {},
   "source": [
    "#### Issue: Certain country codes causing LookupError.  New goal to identify erronous country code."
   ]
  },
  {
   "cell_type": "code",
   "execution_count": 44,
   "metadata": {},
   "outputs": [
    {
     "name": "stdout",
     "output_type": "stream",
     "text": [
      "AE country name is United Arab Emirates\n",
      "AS country name is American Samoa\n",
      "AT country name is Austria\n",
      "AU country name is Australia\n",
      "BE country name is Belgium\n",
      "BR country name is Brazil\n",
      "CA country name is Canada\n",
      "CH country name is Switzerland\n",
      "CL country name is Chile\n",
      "CN country name is China\n",
      "CO country name is Colombia\n",
      "CZ country name is Czechia\n",
      "DE country name is Germany\n",
      "DK country name is Denmark\n",
      "DZ country name is Algeria\n",
      "EE country name is Estonia\n",
      "ES country name is Spain\n",
      "FR country name is France\n",
      "GB country name is United Kingdom\n",
      "GR country name is Greece\n",
      "HN country name is Honduras\n",
      "HR country name is Croatia\n",
      "HU country name is Hungary\n",
      "IE country name is Ireland\n",
      "IL country name is Israel\n",
      "IN country name is India\n",
      "IQ country name is Iraq\n",
      "IR country name is Iran, Islamic Republic of\n",
      "IT country name is Italy\n",
      "JP country name is Japan\n",
      "KE country name is Kenya\n",
      "LU country name is Luxembourg\n",
      "MD country name is Moldova, Republic of\n",
      "MT country name is Malta\n",
      "MX country name is Mexico\n",
      "MY country name is Malaysia\n",
      "NG country name is Nigeria\n",
      "NL country name is Netherlands\n",
      "NZ country name is New Zealand\n",
      "PK country name is Pakistan\n",
      "PL country name is Poland\n",
      "PT country name is Portugal\n",
      "RO country name is Romania\n",
      "RU country name is Russian Federation\n",
      "SG country name is Singapore\n",
      "SI country name is Slovenia\n",
      "TR country name is Turkey\n",
      "UA country name is Ukraine\n",
      "US country name is United States\n",
      "VN country name is Viet Nam\n"
     ]
    }
   ],
   "source": [
    "df.sort_values(\"company_location\", inplace=True)\n",
    "# print(df[\"company_location\"].unique())\n",
    "for country in df[\"company_location\"].unique():\n",
    "    try:\n",
    "\n",
    "        print(f\"{country} country name is {pycountry.countries.get(alpha_2=country).name}\")\n",
    "    except LookupError:\n",
    "        print(f\"{country} country name is AN INVALID FORMAT\")\n"
   ]
  },
  {
   "cell_type": "markdown",
   "metadata": {},
   "source": [
    "#### Below attempt is still throwing lookup error - switching to using extra .csv file of countries"
   ]
  },
  {
   "cell_type": "code",
   "execution_count": 45,
   "metadata": {},
   "outputs": [
    {
     "name": "stdout",
     "output_type": "stream",
     "text": [
      "Lookup Error\n"
     ]
    }
   ],
   "source": [
    "try:\n",
    "    df[\"company_location\"] = (pycountry.countries.lookup(df[\"company_location\"]).name)\n",
    "    df.head()\n",
    "except LookupError:\n",
    "    print(\"Lookup Error\")"
   ]
  },
  {
   "cell_type": "markdown",
   "metadata": {},
   "source": [
    "#### Importing of country name/code csv, and removal of unnecessary columns (preparation for merging DF's)"
   ]
  },
  {
   "cell_type": "code",
   "execution_count": 46,
   "metadata": {},
   "outputs": [
    {
     "data": {
      "text/html": [
       "<div>\n",
       "<style scoped>\n",
       "    .dataframe tbody tr th:only-of-type {\n",
       "        vertical-align: middle;\n",
       "    }\n",
       "\n",
       "    .dataframe tbody tr th {\n",
       "        vertical-align: top;\n",
       "    }\n",
       "\n",
       "    .dataframe thead th {\n",
       "        text-align: right;\n",
       "    }\n",
       "</style>\n",
       "<table border=\"1\" class=\"dataframe\">\n",
       "  <thead>\n",
       "    <tr style=\"text-align: right;\">\n",
       "      <th></th>\n",
       "      <th>country_name</th>\n",
       "    </tr>\n",
       "    <tr>\n",
       "      <th>Alpha-2</th>\n",
       "      <th></th>\n",
       "    </tr>\n",
       "  </thead>\n",
       "  <tbody>\n",
       "    <tr>\n",
       "      <th>AF</th>\n",
       "      <td>Afghanistan</td>\n",
       "    </tr>\n",
       "    <tr>\n",
       "      <th>AX</th>\n",
       "      <td>Åland Islands</td>\n",
       "    </tr>\n",
       "    <tr>\n",
       "      <th>AL</th>\n",
       "      <td>Albania</td>\n",
       "    </tr>\n",
       "    <tr>\n",
       "      <th>DZ</th>\n",
       "      <td>Algeria</td>\n",
       "    </tr>\n",
       "    <tr>\n",
       "      <th>AS</th>\n",
       "      <td>American Samoa</td>\n",
       "    </tr>\n",
       "    <tr>\n",
       "      <th>...</th>\n",
       "      <td>...</td>\n",
       "    </tr>\n",
       "    <tr>\n",
       "      <th>GQ</th>\n",
       "      <td>Equatorial Guinea</td>\n",
       "    </tr>\n",
       "    <tr>\n",
       "      <th>ER</th>\n",
       "      <td>Eritrea</td>\n",
       "    </tr>\n",
       "    <tr>\n",
       "      <th>EE</th>\n",
       "      <td>Estonia</td>\n",
       "    </tr>\n",
       "    <tr>\n",
       "      <th>ET</th>\n",
       "      <td>Ethiopia</td>\n",
       "    </tr>\n",
       "    <tr>\n",
       "      <th>FK</th>\n",
       "      <td>Falkland Islands (Malvinas)</td>\n",
       "    </tr>\n",
       "  </tbody>\n",
       "</table>\n",
       "<p>70 rows × 1 columns</p>\n",
       "</div>"
      ],
      "text/plain": [
       "                        country_name\n",
       "Alpha-2                             \n",
       "AF                       Afghanistan\n",
       "AX                     Åland Islands\n",
       "AL                           Albania\n",
       "DZ                           Algeria\n",
       "AS                    American Samoa\n",
       "...                              ...\n",
       "GQ                 Equatorial Guinea\n",
       "ER                           Eritrea\n",
       "EE                           Estonia\n",
       "ET                          Ethiopia\n",
       "FK       Falkland Islands (Malvinas)\n",
       "\n",
       "[70 rows x 1 columns]"
      ]
     },
     "execution_count": 46,
     "metadata": {},
     "output_type": "execute_result"
    }
   ],
   "source": [
    "country_df = pd.read_csv(\"wikipedia-iso-country-codes.csv\", index_col=\"Alpha-2\")\n",
    "country_df.drop([\"Alpha-3\", \"numeric_code\", \"ISO_3166-2\"], axis=1, inplace=True)\n",
    "country_df.head(70)\n"
   ]
  },
  {
   "cell_type": "markdown",
   "metadata": {},
   "source": [
    "#### Merging of DF's based on \"company_location\" country code"
   ]
  },
  {
   "cell_type": "code",
   "execution_count": 47,
   "metadata": {},
   "outputs": [
    {
     "name": "stdout",
     "output_type": "stream",
     "text": [
      "['United Arab Emirates' 'American Samoa' 'Austria' 'Australia' 'Belgium'\n",
      " 'Brazil' 'Canada' 'Switzerland' 'Chile' 'China' 'Colombia'\n",
      " 'Czech Republic' 'Germany' 'Denmark' 'Algeria' 'Estonia' 'Spain' 'France'\n",
      " 'United Kingdom' 'Greece' 'Honduras' 'Croatia' 'Hungary' 'Ireland'\n",
      " 'Israel' 'India' 'Iraq' 'Iran, Islamic Republic of' 'Italy' 'Japan'\n",
      " 'Kenya' 'Luxembourg' 'Moldova, Republic of' 'Malta' 'Mexico' 'Malaysia'\n",
      " 'Nigeria' 'Netherlands' 'New Zealand' 'Pakistan' 'Poland' 'Portugal'\n",
      " 'Romania' 'Russian Federation' 'Singapore' 'Slovenia' 'Turkey' 'Ukraine'\n",
      " 'United States' 'Viet Nam']\n"
     ]
    }
   ],
   "source": [
    "#print(country_df.loc[df.loc[1][\"company_location\"]][\"country_name\"])\n",
    "merged_df = pd.merge(df, country_df, left_on=\"company_location\", right_on=\"Alpha-2\")\n",
    "print(merged_df[\"country_name\"].unique())\n"
   ]
  },
  {
   "cell_type": "markdown",
   "metadata": {},
   "source": [
    "#### Cleanup of columns including:\n",
    "* Dropping company_location column\n",
    "* Renaming country_name to company_location"
   ]
  },
  {
   "cell_type": "code",
   "execution_count": 48,
   "metadata": {},
   "outputs": [
    {
     "data": {
      "text/html": [
       "<div>\n",
       "<style scoped>\n",
       "    .dataframe tbody tr th:only-of-type {\n",
       "        vertical-align: middle;\n",
       "    }\n",
       "\n",
       "    .dataframe tbody tr th {\n",
       "        vertical-align: top;\n",
       "    }\n",
       "\n",
       "    .dataframe thead th {\n",
       "        text-align: right;\n",
       "    }\n",
       "</style>\n",
       "<table border=\"1\" class=\"dataframe\">\n",
       "  <thead>\n",
       "    <tr style=\"text-align: right;\">\n",
       "      <th></th>\n",
       "      <th>work_year</th>\n",
       "      <th>experience_level</th>\n",
       "      <th>employment_type</th>\n",
       "      <th>job_title</th>\n",
       "      <th>salary</th>\n",
       "      <th>salary_currency</th>\n",
       "      <th>salary_in_usd</th>\n",
       "      <th>employee_residence</th>\n",
       "      <th>remote_ratio</th>\n",
       "      <th>company_size</th>\n",
       "      <th>company_location</th>\n",
       "    </tr>\n",
       "  </thead>\n",
       "  <tbody>\n",
       "    <tr>\n",
       "      <th>0</th>\n",
       "      <td>2020</td>\n",
       "      <td>MI</td>\n",
       "      <td>FT</td>\n",
       "      <td>Lead Data Scientist</td>\n",
       "      <td>115000</td>\n",
       "      <td>USD</td>\n",
       "      <td>115000</td>\n",
       "      <td>AE</td>\n",
       "      <td>0</td>\n",
       "      <td>L</td>\n",
       "      <td>United Arab Emirates</td>\n",
       "    </tr>\n",
       "    <tr>\n",
       "      <th>1</th>\n",
       "      <td>2022</td>\n",
       "      <td>SE</td>\n",
       "      <td>FT</td>\n",
       "      <td>Machine Learning Engineer</td>\n",
       "      <td>65000</td>\n",
       "      <td>USD</td>\n",
       "      <td>65000</td>\n",
       "      <td>AE</td>\n",
       "      <td>100</td>\n",
       "      <td>S</td>\n",
       "      <td>United Arab Emirates</td>\n",
       "    </tr>\n",
       "    <tr>\n",
       "      <th>2</th>\n",
       "      <td>2022</td>\n",
       "      <td>SE</td>\n",
       "      <td>FT</td>\n",
       "      <td>Machine Learning Engineer</td>\n",
       "      <td>120000</td>\n",
       "      <td>USD</td>\n",
       "      <td>120000</td>\n",
       "      <td>AE</td>\n",
       "      <td>100</td>\n",
       "      <td>S</td>\n",
       "      <td>United Arab Emirates</td>\n",
       "    </tr>\n",
       "    <tr>\n",
       "      <th>3</th>\n",
       "      <td>2021</td>\n",
       "      <td>EN</td>\n",
       "      <td>FT</td>\n",
       "      <td>AI Scientist</td>\n",
       "      <td>1335000</td>\n",
       "      <td>INR</td>\n",
       "      <td>18053</td>\n",
       "      <td>IN</td>\n",
       "      <td>100</td>\n",
       "      <td>S</td>\n",
       "      <td>American Samoa</td>\n",
       "    </tr>\n",
       "    <tr>\n",
       "      <th>4</th>\n",
       "      <td>2020</td>\n",
       "      <td>MI</td>\n",
       "      <td>FT</td>\n",
       "      <td>Data Engineer</td>\n",
       "      <td>65000</td>\n",
       "      <td>EUR</td>\n",
       "      <td>74130</td>\n",
       "      <td>AT</td>\n",
       "      <td>50</td>\n",
       "      <td>L</td>\n",
       "      <td>Austria</td>\n",
       "    </tr>\n",
       "  </tbody>\n",
       "</table>\n",
       "</div>"
      ],
      "text/plain": [
       "   work_year experience_level employment_type                  job_title  \\\n",
       "0       2020               MI              FT        Lead Data Scientist   \n",
       "1       2022               SE              FT  Machine Learning Engineer   \n",
       "2       2022               SE              FT  Machine Learning Engineer   \n",
       "3       2021               EN              FT               AI Scientist   \n",
       "4       2020               MI              FT              Data Engineer   \n",
       "\n",
       "    salary salary_currency  salary_in_usd employee_residence  remote_ratio  \\\n",
       "0   115000             USD         115000                 AE             0   \n",
       "1    65000             USD          65000                 AE           100   \n",
       "2   120000             USD         120000                 AE           100   \n",
       "3  1335000             INR          18053                 IN           100   \n",
       "4    65000             EUR          74130                 AT            50   \n",
       "\n",
       "  company_size      company_location  \n",
       "0            L  United Arab Emirates  \n",
       "1            S  United Arab Emirates  \n",
       "2            S  United Arab Emirates  \n",
       "3            S        American Samoa  \n",
       "4            L               Austria  "
      ]
     },
     "execution_count": 48,
     "metadata": {},
     "output_type": "execute_result"
    }
   ],
   "source": [
    "merged_df_two = merged_df.drop(\"company_location\", axis=1).rename(columns={\"country_name\": \"company_location\"})\n",
    "merged_df_two.head()"
   ]
  },
  {
   "cell_type": "markdown",
   "metadata": {},
   "source": [
    "#### Rinse & repeat with employee_residence column"
   ]
  },
  {
   "cell_type": "code",
   "execution_count": 49,
   "metadata": {},
   "outputs": [
    {
     "data": {
      "text/html": [
       "<div>\n",
       "<style scoped>\n",
       "    .dataframe tbody tr th:only-of-type {\n",
       "        vertical-align: middle;\n",
       "    }\n",
       "\n",
       "    .dataframe tbody tr th {\n",
       "        vertical-align: top;\n",
       "    }\n",
       "\n",
       "    .dataframe thead th {\n",
       "        text-align: right;\n",
       "    }\n",
       "</style>\n",
       "<table border=\"1\" class=\"dataframe\">\n",
       "  <thead>\n",
       "    <tr style=\"text-align: right;\">\n",
       "      <th></th>\n",
       "      <th>work_year</th>\n",
       "      <th>experience_level</th>\n",
       "      <th>employment_type</th>\n",
       "      <th>job_title</th>\n",
       "      <th>salary</th>\n",
       "      <th>salary_currency</th>\n",
       "      <th>salary_in_usd</th>\n",
       "      <th>employee_residence</th>\n",
       "      <th>remote_ratio</th>\n",
       "      <th>company_size</th>\n",
       "      <th>company_location</th>\n",
       "      <th>country_name</th>\n",
       "    </tr>\n",
       "  </thead>\n",
       "  <tbody>\n",
       "    <tr>\n",
       "      <th>0</th>\n",
       "      <td>2020</td>\n",
       "      <td>MI</td>\n",
       "      <td>FT</td>\n",
       "      <td>Lead Data Scientist</td>\n",
       "      <td>115000</td>\n",
       "      <td>USD</td>\n",
       "      <td>115000</td>\n",
       "      <td>AE</td>\n",
       "      <td>0</td>\n",
       "      <td>L</td>\n",
       "      <td>United Arab Emirates</td>\n",
       "      <td>United Arab Emirates</td>\n",
       "    </tr>\n",
       "    <tr>\n",
       "      <th>1</th>\n",
       "      <td>2022</td>\n",
       "      <td>SE</td>\n",
       "      <td>FT</td>\n",
       "      <td>Machine Learning Engineer</td>\n",
       "      <td>65000</td>\n",
       "      <td>USD</td>\n",
       "      <td>65000</td>\n",
       "      <td>AE</td>\n",
       "      <td>100</td>\n",
       "      <td>S</td>\n",
       "      <td>United Arab Emirates</td>\n",
       "      <td>United Arab Emirates</td>\n",
       "    </tr>\n",
       "    <tr>\n",
       "      <th>2</th>\n",
       "      <td>2022</td>\n",
       "      <td>SE</td>\n",
       "      <td>FT</td>\n",
       "      <td>Machine Learning Engineer</td>\n",
       "      <td>120000</td>\n",
       "      <td>USD</td>\n",
       "      <td>120000</td>\n",
       "      <td>AE</td>\n",
       "      <td>100</td>\n",
       "      <td>S</td>\n",
       "      <td>United Arab Emirates</td>\n",
       "      <td>United Arab Emirates</td>\n",
       "    </tr>\n",
       "    <tr>\n",
       "      <th>3</th>\n",
       "      <td>2021</td>\n",
       "      <td>EN</td>\n",
       "      <td>FT</td>\n",
       "      <td>AI Scientist</td>\n",
       "      <td>1335000</td>\n",
       "      <td>INR</td>\n",
       "      <td>18053</td>\n",
       "      <td>IN</td>\n",
       "      <td>100</td>\n",
       "      <td>S</td>\n",
       "      <td>American Samoa</td>\n",
       "      <td>India</td>\n",
       "    </tr>\n",
       "    <tr>\n",
       "      <th>4</th>\n",
       "      <td>2021</td>\n",
       "      <td>EN</td>\n",
       "      <td>FT</td>\n",
       "      <td>Big Data Engineer</td>\n",
       "      <td>435000</td>\n",
       "      <td>INR</td>\n",
       "      <td>5882</td>\n",
       "      <td>IN</td>\n",
       "      <td>0</td>\n",
       "      <td>L</td>\n",
       "      <td>Switzerland</td>\n",
       "      <td>India</td>\n",
       "    </tr>\n",
       "  </tbody>\n",
       "</table>\n",
       "</div>"
      ],
      "text/plain": [
       "   work_year experience_level employment_type                  job_title  \\\n",
       "0       2020               MI              FT        Lead Data Scientist   \n",
       "1       2022               SE              FT  Machine Learning Engineer   \n",
       "2       2022               SE              FT  Machine Learning Engineer   \n",
       "3       2021               EN              FT               AI Scientist   \n",
       "4       2021               EN              FT          Big Data Engineer   \n",
       "\n",
       "    salary salary_currency  salary_in_usd employee_residence  remote_ratio  \\\n",
       "0   115000             USD         115000                 AE             0   \n",
       "1    65000             USD          65000                 AE           100   \n",
       "2   120000             USD         120000                 AE           100   \n",
       "3  1335000             INR          18053                 IN           100   \n",
       "4   435000             INR           5882                 IN             0   \n",
       "\n",
       "  company_size      company_location          country_name  \n",
       "0            L  United Arab Emirates  United Arab Emirates  \n",
       "1            S  United Arab Emirates  United Arab Emirates  \n",
       "2            S  United Arab Emirates  United Arab Emirates  \n",
       "3            S        American Samoa                 India  \n",
       "4            L           Switzerland                 India  "
      ]
     },
     "execution_count": 49,
     "metadata": {},
     "output_type": "execute_result"
    }
   ],
   "source": [
    "employee_merged_df = pd.merge(merged_df_two, country_df, left_on=\"employee_residence\", right_on=\"Alpha-2\")\n",
    "employee_merged_df.head()"
   ]
  },
  {
   "cell_type": "code",
   "execution_count": 50,
   "metadata": {},
   "outputs": [
    {
     "data": {
      "text/html": [
       "<div>\n",
       "<style scoped>\n",
       "    .dataframe tbody tr th:only-of-type {\n",
       "        vertical-align: middle;\n",
       "    }\n",
       "\n",
       "    .dataframe tbody tr th {\n",
       "        vertical-align: top;\n",
       "    }\n",
       "\n",
       "    .dataframe thead th {\n",
       "        text-align: right;\n",
       "    }\n",
       "</style>\n",
       "<table border=\"1\" class=\"dataframe\">\n",
       "  <thead>\n",
       "    <tr style=\"text-align: right;\">\n",
       "      <th></th>\n",
       "      <th>work_year</th>\n",
       "      <th>experience_level</th>\n",
       "      <th>employment_type</th>\n",
       "      <th>job_title</th>\n",
       "      <th>salary</th>\n",
       "      <th>salary_currency</th>\n",
       "      <th>salary_in_usd</th>\n",
       "      <th>remote_ratio</th>\n",
       "      <th>company_size</th>\n",
       "      <th>company_location</th>\n",
       "      <th>employee_residence</th>\n",
       "    </tr>\n",
       "  </thead>\n",
       "  <tbody>\n",
       "    <tr>\n",
       "      <th>0</th>\n",
       "      <td>2020</td>\n",
       "      <td>MI</td>\n",
       "      <td>FT</td>\n",
       "      <td>Lead Data Scientist</td>\n",
       "      <td>115000</td>\n",
       "      <td>USD</td>\n",
       "      <td>115000</td>\n",
       "      <td>0</td>\n",
       "      <td>L</td>\n",
       "      <td>United Arab Emirates</td>\n",
       "      <td>United Arab Emirates</td>\n",
       "    </tr>\n",
       "    <tr>\n",
       "      <th>1</th>\n",
       "      <td>2022</td>\n",
       "      <td>SE</td>\n",
       "      <td>FT</td>\n",
       "      <td>Machine Learning Engineer</td>\n",
       "      <td>65000</td>\n",
       "      <td>USD</td>\n",
       "      <td>65000</td>\n",
       "      <td>100</td>\n",
       "      <td>S</td>\n",
       "      <td>United Arab Emirates</td>\n",
       "      <td>United Arab Emirates</td>\n",
       "    </tr>\n",
       "    <tr>\n",
       "      <th>2</th>\n",
       "      <td>2022</td>\n",
       "      <td>SE</td>\n",
       "      <td>FT</td>\n",
       "      <td>Machine Learning Engineer</td>\n",
       "      <td>120000</td>\n",
       "      <td>USD</td>\n",
       "      <td>120000</td>\n",
       "      <td>100</td>\n",
       "      <td>S</td>\n",
       "      <td>United Arab Emirates</td>\n",
       "      <td>United Arab Emirates</td>\n",
       "    </tr>\n",
       "    <tr>\n",
       "      <th>3</th>\n",
       "      <td>2021</td>\n",
       "      <td>EN</td>\n",
       "      <td>FT</td>\n",
       "      <td>AI Scientist</td>\n",
       "      <td>1335000</td>\n",
       "      <td>INR</td>\n",
       "      <td>18053</td>\n",
       "      <td>100</td>\n",
       "      <td>S</td>\n",
       "      <td>American Samoa</td>\n",
       "      <td>India</td>\n",
       "    </tr>\n",
       "    <tr>\n",
       "      <th>4</th>\n",
       "      <td>2021</td>\n",
       "      <td>EN</td>\n",
       "      <td>FT</td>\n",
       "      <td>Big Data Engineer</td>\n",
       "      <td>435000</td>\n",
       "      <td>INR</td>\n",
       "      <td>5882</td>\n",
       "      <td>0</td>\n",
       "      <td>L</td>\n",
       "      <td>Switzerland</td>\n",
       "      <td>India</td>\n",
       "    </tr>\n",
       "  </tbody>\n",
       "</table>\n",
       "</div>"
      ],
      "text/plain": [
       "   work_year experience_level employment_type                  job_title  \\\n",
       "0       2020               MI              FT        Lead Data Scientist   \n",
       "1       2022               SE              FT  Machine Learning Engineer   \n",
       "2       2022               SE              FT  Machine Learning Engineer   \n",
       "3       2021               EN              FT               AI Scientist   \n",
       "4       2021               EN              FT          Big Data Engineer   \n",
       "\n",
       "    salary salary_currency  salary_in_usd  remote_ratio company_size  \\\n",
       "0   115000             USD         115000             0            L   \n",
       "1    65000             USD          65000           100            S   \n",
       "2   120000             USD         120000           100            S   \n",
       "3  1335000             INR          18053           100            S   \n",
       "4   435000             INR           5882             0            L   \n",
       "\n",
       "       company_location    employee_residence  \n",
       "0  United Arab Emirates  United Arab Emirates  \n",
       "1  United Arab Emirates  United Arab Emirates  \n",
       "2  United Arab Emirates  United Arab Emirates  \n",
       "3        American Samoa                 India  \n",
       "4           Switzerland                 India  "
      ]
     },
     "execution_count": 50,
     "metadata": {},
     "output_type": "execute_result"
    }
   ],
   "source": [
    "final_df = employee_merged_df.drop(\"employee_residence\", axis=1).rename(columns={\"country_name\": \"employee_residence\"})\n",
    "final_df.head()"
   ]
  },
  {
   "cell_type": "markdown",
   "metadata": {},
   "source": [
    "#### Final check: Comparison of country names in cost of living data set to ensure all country names match"
   ]
  },
  {
   "cell_type": "code",
   "execution_count": 54,
   "metadata": {},
   "outputs": [
    {
     "name": "stdout",
     "output_type": "stream",
     "text": [
      "['United Arab Emirates' 'India' 'Austria' 'Germany' 'Australia' 'Belgium'\n",
      " 'Brazil' 'Canada' 'United Kingdom' 'United States' 'Switzerland' 'Chile'\n",
      " 'China' 'Jersey' 'Colombia' 'Tunisia' 'Czech Republic' 'Serbia'\n",
      " 'Pakistan' 'Netherlands' 'France' 'Greece' 'Denmark' 'Algeria' 'Estonia'\n",
      " 'Spain' 'Poland' 'Romania' 'Viet Nam' 'Hong Kong' 'Honduras' 'Croatia'\n",
      " 'Hungary' 'Ireland' 'Singapore' 'Iraq' 'Iran, Islamic Republic of'\n",
      " 'Italy' 'Japan' 'Kenya' 'Luxembourg' 'Portugal' 'Moldova, Republic of'\n",
      " 'Malta' 'Argentina' 'Mexico' 'Nigeria' 'New Zealand' 'Russian Federation'\n",
      " 'Slovenia' 'Turkey' 'Ukraine' 'Bolivia, Plurinational State of'\n",
      " 'Malaysia' 'Philippines' 'Bulgaria' 'Puerto Rico']\n"
     ]
    }
   ],
   "source": [
    "print(final_df[\"employee_residence\"].unique())\n"
   ]
  },
  {
   "cell_type": "code",
   "execution_count": 52,
   "metadata": {},
   "outputs": [
    {
     "data": {
      "text/plain": [
       "array(['Afghanistan', 'Albania', 'Algeria', 'Argentina', 'Armenia',\n",
       "       'Australia', 'Austria', 'Azerbaijan', 'Bahamas', 'Bahrain',\n",
       "       'Bangladesh', 'Barbados', 'Belarus', 'Belgium', 'Belize',\n",
       "       'Bermuda', 'Bolivia', 'Bosnia And Herzegovina', 'Botswana',\n",
       "       'Brazil', 'Bulgaria', 'Cambodia', 'Cameroon', 'Canada', 'Chile',\n",
       "       'China', 'Colombia', 'Costa Rica', 'Croatia', 'Cuba', 'Cyprus',\n",
       "       'Czech Republic', 'Denmark', 'Dominican Republic', 'Ecuador',\n",
       "       'Egypt', 'El Salvador', 'Estonia', 'Ethiopia', 'Fiji', 'Finland',\n",
       "       'France', 'Georgia', 'Germany', 'Ghana', 'Greece', 'Guatemala',\n",
       "       'Guernsey', 'Honduras', 'Hong Kong', 'Hungary', 'Iceland', 'India',\n",
       "       'Indonesia', 'Iran', 'Iraq', 'Ireland', 'Israel', 'Italy',\n",
       "       'Ivory Coast', 'Jamaica', 'Japan', 'Jersey', 'Jordan',\n",
       "       'Kazakhstan', 'Kenya', 'Kosovo (Disputed Territory)', 'Kuwait',\n",
       "       'Latvia', 'Lebanon', 'Libya', 'Lithuania', 'Luxembourg', 'Macao',\n",
       "       'Malaysia', 'Maldives', 'Malta', 'Mauritius', 'Mexico', 'Moldova',\n",
       "       'Mongolia', 'Montenegro', 'Morocco', 'Myanmar', 'Nepal',\n",
       "       'Netherlands', 'New Zealand', 'Nicaragua', 'Nigeria',\n",
       "       'North Macedonia', 'Norway', 'Oman', 'Pakistan', 'Palestine',\n",
       "       'Panama', 'Paraguay', 'Peru', 'Philippines', 'Poland', 'Portugal',\n",
       "       'Puerto Rico', 'Qatar', 'Romania', 'Russia', 'Rwanda',\n",
       "       'Saudi Arabia', 'Senegal', 'Serbia', 'Seychelles', 'Singapore',\n",
       "       'Slovakia', 'Slovenia', 'Somalia', 'South Africa', 'South Korea',\n",
       "       'Spain', 'Sri Lanka', 'Suriname', 'Sweden', 'Switzerland', 'Syria',\n",
       "       'Taiwan', 'Tanzania', 'Thailand', 'Trinidad And Tobago', 'Tunisia',\n",
       "       'Turkey', 'Uganda', 'Ukraine', 'United Arab Emirates',\n",
       "       'United Kingdom', 'United States', 'Uruguay', 'Uzbekistan',\n",
       "       'Venezuela', 'Vietnam', 'Yemen', 'Zambia', 'Zimbabwe'],\n",
       "      dtype=object)"
      ]
     },
     "execution_count": 52,
     "metadata": {},
     "output_type": "execute_result"
    }
   ],
   "source": [
    "living_df = pd.read_csv(\"Cost_of_Living_Index_2022.csv\")\n",
    "living_df[\"Country\"].unique()"
   ]
  },
  {
   "cell_type": "markdown",
   "metadata": {},
   "source": [
    "#### Outliers to fix in final_df:\n",
    "* Viet Nam --> Vietnam\n",
    "* Moldova, Republic of --> Moldova\n",
    "* Russian Federation --> Russia\n",
    "* Iran, Islamic Republic of --> Iran\n",
    "* Bolivia, Plurinational State of --> Bolivia\n",
    "* American Samoa --> No matching field - drop records to avoid student confusion\n"
   ]
  },
  {
   "cell_type": "markdown",
   "metadata": {},
   "source": [
    "#### Employee residence column cleanup"
   ]
  },
  {
   "cell_type": "code",
   "execution_count": 57,
   "metadata": {},
   "outputs": [
    {
     "name": "stdout",
     "output_type": "stream",
     "text": [
      "['United Arab Emirates' 'India' 'Austria' 'Germany' 'Australia' 'Belgium'\n",
      " 'Brazil' 'Canada' 'United Kingdom' 'United States' 'Switzerland' 'Chile'\n",
      " 'China' 'Jersey' 'Colombia' 'Tunisia' 'Czech Republic' 'Serbia'\n",
      " 'Pakistan' 'Netherlands' 'France' 'Greece' 'Denmark' 'Algeria' 'Estonia'\n",
      " 'Spain' 'Poland' 'Romania' 'Vietnam' 'Hong Kong' 'Honduras' 'Croatia'\n",
      " 'Hungary' 'Ireland' 'Singapore' 'Iraq' 'Iran' 'Italy' 'Japan' 'Kenya'\n",
      " 'Luxembourg' 'Portugal' 'Moldova' 'Malta' 'Argentina' 'Mexico' 'Nigeria'\n",
      " 'New Zealand' 'Russia' 'Slovenia' 'Turkey' 'Ukraine' 'Bolivia' 'Malaysia'\n",
      " 'Philippines' 'Bulgaria' 'Puerto Rico']\n"
     ]
    }
   ],
   "source": [
    "final_df[\"employee_residence\"] = final_df[\"employee_residence\"].replace(\"Viet Nam\", \"Vietnam\")\n",
    "final_df[\"employee_residence\"] = final_df[\"employee_residence\"].replace(\"Moldova, Republic of\", \"Moldova\")\n",
    "final_df[\"employee_residence\"] = final_df[\"employee_residence\"].replace(\"Iran, Islamic Republic of\", \"Iran\")\n",
    "final_df[\"employee_residence\"] = final_df[\"employee_residence\"].replace(\"Bolivia, Plurinational State of\", \"Bolivia\")\n",
    "final_df[\"employee_residence\"] = final_df[\"employee_residence\"].replace(\"Russian Federation\", \"Russia\")\n",
    "print(final_df[\"employee_residence\"].unique())"
   ]
  },
  {
   "cell_type": "markdown",
   "metadata": {},
   "source": [
    "#### Company Location Column Cleanup"
   ]
  },
  {
   "cell_type": "code",
   "execution_count": 58,
   "metadata": {},
   "outputs": [
    {
     "name": "stdout",
     "output_type": "stream",
     "text": [
      "['United Arab Emirates' 'American Samoa' 'Switzerland' 'India'\n",
      " 'United States' 'Austria' 'Germany' 'Australia' 'Belgium' 'Brazil'\n",
      " 'Canada' 'United Kingdom' 'France' 'Chile' 'China' 'Colombia'\n",
      " 'Czech Republic' 'Pakistan' 'Netherlands' 'Spain' 'Luxembourg' 'Denmark'\n",
      " 'Greece' 'Algeria' 'Estonia' 'Romania' 'Poland' 'Vietnam' 'Honduras'\n",
      " 'Croatia' 'Hungary' 'Ireland' 'Israel' 'Singapore' 'Iraq' 'Iran' 'Italy'\n",
      " 'Japan' 'Malaysia' 'Kenya' 'Portugal' 'Moldova' 'Malta' 'Mexico'\n",
      " 'Nigeria' 'New Zealand' 'Russia' 'Slovenia' 'Turkey' 'Ukraine']\n"
     ]
    }
   ],
   "source": [
    "final_df[\"company_location\"] = final_df[\"company_location\"].replace(\"Viet Nam\", \"Vietnam\")\n",
    "final_df[\"company_location\"] = final_df[\"company_location\"].replace(\"Moldova, Republic of\", \"Moldova\")\n",
    "final_df[\"company_location\"] = final_df[\"company_location\"].replace(\"Iran, Islamic Republic of\", \"Iran\")\n",
    "final_df[\"company_location\"] = final_df[\"company_location\"].replace(\"Bolivia, Plurinational State of\", \"Bolivia\")\n",
    "final_df[\"company_location\"] = final_df[\"company_location\"].replace(\"Russian Federation\", \"Russia\")\n",
    "print(final_df[\"company_location\"].unique())"
   ]
  },
  {
   "cell_type": "markdown",
   "metadata": {},
   "source": [
    "#### Removal of American Samoa references from final_df"
   ]
  },
  {
   "cell_type": "code",
   "execution_count": 63,
   "metadata": {},
   "outputs": [
    {
     "data": {
      "text/plain": [
       "array(['United Arab Emirates', 'Switzerland', 'India', 'United States',\n",
       "       'Austria', 'Germany', 'Australia', 'Belgium', 'Brazil', 'Canada',\n",
       "       'United Kingdom', 'France', 'Chile', 'China', 'Colombia',\n",
       "       'Czech Republic', 'Pakistan', 'Netherlands', 'Spain', 'Luxembourg',\n",
       "       'Denmark', 'Greece', 'Algeria', 'Estonia', 'Romania', 'Poland',\n",
       "       'Vietnam', 'Honduras', 'Croatia', 'Hungary', 'Ireland', 'Israel',\n",
       "       'Singapore', 'Iraq', 'Iran', 'Italy', 'Japan', 'Malaysia', 'Kenya',\n",
       "       'Portugal', 'Moldova', 'Malta', 'Mexico', 'Nigeria', 'New Zealand',\n",
       "       'Russia', 'Slovenia', 'Turkey', 'Ukraine'], dtype=object)"
      ]
     },
     "execution_count": 63,
     "metadata": {},
     "output_type": "execute_result"
    }
   ],
   "source": [
    "final_cleaned_df = final_df[final_df.company_location != \"American Samoa\"]\n",
    "final_cleaned_df[\"company_location\"].unique()"
   ]
  },
  {
   "cell_type": "code",
   "execution_count": 67,
   "metadata": {},
   "outputs": [],
   "source": [
    "final_cleaned_df.to_csv(\"Data_Scientist_Salaries.csv\", index=False)"
   ]
  }
 ],
 "metadata": {
  "kernelspec": {
   "display_name": "Python 3.10.6 64-bit",
   "language": "python",
   "name": "python3"
  },
  "language_info": {
   "codemirror_mode": {
    "name": "ipython",
    "version": 3
   },
   "file_extension": ".py",
   "mimetype": "text/x-python",
   "name": "python",
   "nbconvert_exporter": "python",
   "pygments_lexer": "ipython3",
   "version": "3.10.6"
  },
  "orig_nbformat": 4,
  "vscode": {
   "interpreter": {
    "hash": "991b4f12e3cd7e62d84ec965b56412c4354ac1fe6297d96f50a80e713193dd77"
   }
  }
 },
 "nbformat": 4,
 "nbformat_minor": 2
}
